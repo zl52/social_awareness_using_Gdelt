{
 "cells": [
  {
   "cell_type": "code",
   "execution_count": 24,
   "id": "69f1c5a2",
   "metadata": {},
   "outputs": [
    {
     "name": "stdout",
     "output_type": "stream",
     "text": [
      "The script still runs.\n"
     ]
    }
   ],
   "source": [
    "import numpy as np\n",
    "import pandas as pd\n",
    "\n",
    "import time\n",
    "from pathos.multiprocessing import ProcessingPool as Pool\n",
    "# from multiprocessing import Pool\n",
    "from tqdm.notebook import tqdm\n",
    "import hashlib\n",
    "import json\n",
    "import glob\n",
    "import urllib\n",
    "import urllib.request as urllib2\n",
    "import requests\n",
    "import http\n",
    "import langid\n",
    "\n",
    "from goose3 import Goose\n",
    "from goose3.text import StopWordsChinese, StopWords, StopWordsArabic, StopWordsKorean\n",
    "\n",
    "import warnings\n",
    "warnings.filterwarnings('ignore')\n",
    "print('The script still runs.')\n"
   ]
  },
  {
   "cell_type": "markdown",
   "id": "8f9617e6",
   "metadata": {
    "ExecuteTime": {
     "end_time": "2024-12-28T14:59:53.419574Z",
     "start_time": "2024-12-28T14:59:53.381408Z"
    }
   },
   "source": [
    "# event data & GKG data merging"
   ]
  },
  {
   "cell_type": "code",
   "execution_count": null,
   "id": "4ace4c60",
   "metadata": {},
   "outputs": [],
   "source": [
    "cnt = 0\n",
    "for y in range(2023, 2025):\n",
    "    files = glob.glob('gkg_f1_mining_water\\\\%s*'%y) # event and mine\n",
    "    data = pd.DataFrame()\n",
    "    for f in files:\n",
    "        print('gkg:', f)\n",
    "        temp = pd.read_csv(f)\n",
    "        data = pd.concat([data, temp])\n",
    "    \n",
    "    files2 = []\n",
    "    for x in range(y-1, y+2):\n",
    "        files2 += glob.glob('event_mining_data\\\\%s*'%x)\n",
    "    for f2 in files2:\n",
    "        print('event:', f2)\n",
    "        temp = pd.read_csv(f2)\n",
    "        res = pd.merge(data, temp, how='inner', left_on='DocumentIdentifier', right_on='SOURCEURL').drop_duplicates()\n",
    "        cnt += res.shape[0]\n",
    "        res.to_csv(f2.replace('event_mining_data', 'gkg_event_mining_water_merged').replace('.CSV', '_'+str(y)+'.csv'), index=None)\n",
    "\n",
    "files = glob.glob('gkg_event_mining_water_merged/*')\n",
    "res = pd.DataFrame()\n",
    "for f in files:\n",
    "    temp = pd.read_csv(f)\n",
    "    res = pd.concat([res,temp])\n",
    "    print(f, temp.shape)\n",
    "res = res.drop_duplicates()\n"
   ]
  },
  {
   "cell_type": "code",
   "execution_count": null,
   "id": "bb17a4c1",
   "metadata": {},
   "outputs": [],
   "source": [
    "res['GKGRECORDID'].map(lambda x: x[:4]).value_counts()\n"
   ]
  },
  {
   "cell_type": "code",
   "execution_count": null,
   "id": "3a538841",
   "metadata": {},
   "outputs": [],
   "source": [
    "res.shape\n"
   ]
  },
  {
   "cell_type": "markdown",
   "id": "5ae60707",
   "metadata": {},
   "source": [
    "# data screening and data exploding"
   ]
  },
  {
   "cell_type": "code",
   "execution_count": 30,
   "id": "4874c330",
   "metadata": {},
   "outputs": [
    {
     "data": {
      "text/plain": [
       "(981549, 90)"
      ]
     },
     "execution_count": 30,
     "metadata": {},
     "output_type": "execute_result"
    }
   ],
   "source": [
    "res['isnull'] = res.isnull().mean(axis=1)\n",
    "res = res.sort_values(by='isnull', ascending=False)\n",
    "res = res.drop_duplicates(['GKGRECORDID', 'prop_id'], keep='last')\n",
    "res.shape\n"
   ]
  },
  {
   "cell_type": "code",
   "execution_count": 31,
   "id": "1c304560",
   "metadata": {},
   "outputs": [],
   "source": [
    "res['V2Themes_lst'] = res['V2Themes'].map(lambda x:np.unique([i.split(',')[0] for i in  x.split(';')]))\n"
   ]
  },
  {
   "cell_type": "code",
   "execution_count": 33,
   "id": "84977562",
   "metadata": {},
   "outputs": [
    {
     "data": {
      "text/plain": [
       "72"
      ]
     },
     "execution_count": 33,
     "metadata": {},
     "output_type": "execute_result"
    }
   ],
   "source": [
    "water_theme_list = ['NATURAL_DISASTER_FLASH_FLOOD',\n",
    "                    'NATURAL_DISASTER_FLASH_FLOODS',\n",
    "                    'NATURAL_DISASTER_FLOOD',\n",
    "                    'NATURAL_DISASTER_FLOOD_WARNING',\n",
    "                    'NATURAL_DISASTER_FLOOD_WATER',\n",
    "                    'NATURAL_DISASTER_FLOOD_WATERS',\n",
    "                    'NATURAL_DISASTER_FLOODED',\n",
    "                    'NATURAL_DISASTER_FLOODED_AREAS',\n",
    "                    'NATURAL_DISASTER_FLOODING',\n",
    "                    'NATURAL_DISASTER_FLOODS',\n",
    "                    'NATURAL_DISASTER_FLOODWATER',\n",
    "                    'NATURAL_DISASTER_FLOODWATERS',\n",
    "                    'WB_154_FLOOD_PROTECTION',\n",
    "                    'NATURAL_DISASTER_HIGH_WATER',\n",
    "                    'NATURAL_DISASTER_HIGH_WATERS',\n",
    "                    'NATURAL_DISASTER_WATER_LEVEL',\n",
    "                    'WATER_SECURITY',\n",
    "                    'CRISISLEX_C06_WATER_SANITATION',\n",
    "                    'NATURAL_DISASTER_DROUGHT',\n",
    "                    'NATURAL_DISASTER_DROUGHTS',\n",
    "                    'NATURAL_DISASTER_INTENSE_RAINFALL',\n",
    "                    'NATURAL_DISASTER_TORRENTIAL_RAINFALL',\n",
    "                    'NATURAL_DISASTER_DESERTIFICATION',\n",
    "                    'WATER_SECURITY',\n",
    "                'WB_1000_WATER_MANAGEMENT_STRUCTURES',\n",
    "                'WB_1002_IRRIGATION_WATER_QUALITY',\n",
    "                'WB_1021_WATER_LAW',\n",
    "                'WB_1063_WATER_ALLOCATION_AND_WATER_SUPPLY',\n",
    "                'WB_1064_WATER_DEMAND_MANAGEMENT',\n",
    "                'WB_1199_WATER_SUPPLY_AND_SANITATION',\n",
    "                'WB_1215_WATER_QUALITY_STANDARDS',\n",
    "                'WB_1220_SURFACE_WATER_MANAGEMENT',\n",
    "                'WB_137_WATER',\n",
    "                'WB_138_WATER_SUPPLY',\n",
    "                'WB_139_SANITATION_AND_WASTEWATER',\n",
    "                'WB_140_AGRICULTURAL_WATER_MANAGEMENT',\n",
    "                'WB_141_WATER_RESOURCES_MANAGEMENT',\n",
    "                'WB_142_ENERGY_AND_WATER',\n",
    "                'WB_143_RURAL_WATER',\n",
    "                'WB_144_URBAN_WATER',\n",
    "                'WB_1462_WATER_SANITATION_AND_HYGIENE',\n",
    "                'WB_149_WASTEWATER_TREATMENT_AND_DISPOSAL',\n",
    "                'WB_150_WASTEWATER_REUSE',\n",
    "                'WB_155_WATERSHED_MANAGEMENT',\n",
    "                'WB_156_GROUNDWATER_MANAGEMENT',\n",
    "                'WB_157_ENVIRONMENTAL_WATER_USE_AND_CATCHMENT_PROTECTION',\n",
    "                'WB_158_WATER_RESOURCES_AND_CLIMATE_ADAPTATION',\n",
    "                'WB_159_TRANSBOUNDARY_WATER',\n",
    "                'WB_1729_URBAN_WATER_FINANCIAL_SUSTAINABILITY',\n",
    "                'WB_1730_URBAN_WATER_COST_RECOVERY',\n",
    "                'WB_1731_NON_REVENUE_WATER',\n",
    "                'WB_1778_FRESHWATER_ECOSYSTEMS',\n",
    "                'WB_1798_WATER_POLLUTION',\n",
    "                'WB_1994_WATER_FOR_FUEL_EXTRACTION',\n",
    "                'WB_1998_WATER_ECONOMICS',\n",
    "                'WB_2005_COMMUNITY_WATER_SUPPLY_MANAGEMENT',\n",
    "                'WB_2007_WATER_SAFETY_PLANS',\n",
    "                'WB_2008_WATER_TREATMENT',\n",
    "                'WB_2009_WATER_QUALITY_MONITORING',\n",
    "                'WB_2968_URBAN_WATER_AND_SANITATION',\n",
    "                'WB_2971_WATER_PRICING',\n",
    "                'WB_2972_GROUNDWATER_CONJUNCTIVE_USE',\n",
    "                'WB_2978_WATER_POLLUTION_LOAD',\n",
    "                'WB_2981_DRINKING_WATER_QUALITY_STANDARDS',\n",
    "                'WB_2982_INDUSTRIAL_WATER_AND_HYGIENE',\n",
    "                'WB_2984_URBAN_WATER_AND_HYGIENE',\n",
    "                'WB_2985_RURAL_WATER_AND_HYGIENE',\n",
    "                'WB_2992_FRESHWATER_FISHERIES',\n",
    "                'WB_3014_WASTEWATER_DISPOSAL_FACILITIES',\n",
    "                'WB_423_INTEGRATED_URBAN_WATER_MANAGEMENT',\n",
    "                'WB_427_WATER_ALLOCATION_AND_WATER_ECONOMICS',\n",
    "                'WB_991_DRAINAGE_WATER_QUALITY',\n",
    "                'WB_1710_DROUGHT_RISK_REDUCTION'\n",
    "                   ]\n",
    "\n",
    "water_theme_list = set(water_theme_list)\n",
    "len(water_theme_list)\n"
   ]
  },
  {
   "cell_type": "code",
   "execution_count": 34,
   "id": "7bf95121",
   "metadata": {},
   "outputs": [],
   "source": [
    "stat = pd.Series(lst).value_counts()\n"
   ]
  },
  {
   "cell_type": "code",
   "execution_count": 36,
   "id": "817abbec",
   "metadata": {},
   "outputs": [],
   "source": [
    "water_theme_dic = {\n",
    "'natural_disaster_flood_warning':'Flooding and Excess Water',\n",
    "'natural_disaster_flooded_areas':'Flooding and Excess Water',\n",
    "'natural_disaster_torrential_rainfall':'Flooding and Excess Water',\n",
    "'natural_disaster_flash_floods':'Flooding and Excess Water',\n",
    "'natural_disaster_intense_rainfall':'Flooding and Excess Water',\n",
    "'natural_disaster_flash_flood':'Flooding and Excess Water',\n",
    "'natural_disaster_floodwaters':'Flooding and Excess Water',\n",
    "'natural_disaster_floodwater':'Flooding and Excess Water',\n",
    "'natural_disaster_floods':'Flooding and Excess Water',\n",
    "'natural_disaster_flood_waters':'Flooding and Excess Water',\n",
    "'natural_disaster_flooded':'Flooding and Excess Water',\n",
    "'natural_disaster_flooding':'Flooding and Excess Water',\n",
    "'natural_disaster_flood':'Flooding and Excess Water',\n",
    "'natural_disaster_flood_water':'Flooding and Excess Water',\n",
    "'natural_disaster_high_waters':'Flooding and Excess Water',\n",
    "'natural_disaster_water_level':'Flooding and Excess Water',\n",
    "'natural_disaster_high_water':'Flooding and Excess Water',\n",
    "'natural_disaster_desertification':'Drought and Desertification',\n",
    "'natural_disaster_droughts':'Drought and Desertification',\n",
    "'natural_disaster_drought':'Drought and Desertification',\n",
    "'wb_2981_drinking_water_quality_standards':'Water Quality and Pollution',\n",
    "'wb_1798_water_pollution':'Water Quality and Pollution',\n",
    "'wb_1215_water_quality_standards':'Water Quality and Pollution',\n",
    "'wb_991_drainage_water_quality':'Water Quality and Pollution',\n",
    "'wb_2009_water_quality_monitoring':'Water Quality and Pollution',\n",
    "'wb_150_wastewater_reuse':'Water Supply, Sanitation and infrastructure',\n",
    "'crisislex_c06_water_sanitation':'Water Supply, Sanitation and infrastructure',\n",
    "'wb_149_wastewater_treatment_and_disposal':'Water Supply, Sanitation and infrastructure',\n",
    "'wb_2005_community_water_supply_management':'Water Supply, Sanitation and infrastructure',\n",
    "'wb_138_water_supply':'Water Supply, Sanitation and infrastructure',\n",
    "'wb_1778_freshwater_ecosystems':'Water Supply, Sanitation and infrastructure',\n",
    "'wb_139_sanitation_and_wastewater':'Water Supply, Sanitation and infrastructure',\n",
    "'wb_143_rural_water':'Water Supply, Sanitation and infrastructure',\n",
    "'wb_3014_wastewater_disposal_facilities':'Water Supply, Sanitation and infrastructure',\n",
    "'wb_1462_water_sanitation_and_hygiene':'Water Supply, Sanitation and infrastructure',\n",
    "'wb_1199_water_supply_and_sanitation':'Water Supply, Sanitation and infrastructure',\n",
    "'wb_2008_water_treatment':'Water Supply, Sanitation and infrastructure',\n",
    "'wb_1063_water_allocation_and_water_supply':'Water Supply, Sanitation and infrastructure',\n",
    "'wb_154_flood_protection':'Water Supply, Sanitation and infrastructure',\n",
    "'wb_144_urban_water':'Water Economics, Policy and Management',\n",
    "'wb_1998_water_economics':'Water Economics, Policy and Management',\n",
    "'wb_427_water_allocation_and_water_economics':'Water Economics, Policy and Management',\n",
    "'wb_1064_water_demand_management':'Water Economics, Policy and Management',\n",
    "'wb_1729_urban_water_financial_sustainability':'Water Economics, Policy and Management',\n",
    "'wb_1731_non_revenue_water':'Water Economics, Policy and Management',\n",
    "'wb_2971_water_pricing':'Water Economics, Policy and Management',\n",
    "'water_security':'Water Economics, Policy and Management',\n",
    "'wb_159_transboundary_water':'Water Economics, Policy and Management',\n",
    "'wb_2007_water_safety_plans':'Water Economics, Policy and Management',\n",
    "'wb_2992_freshwater_fisheries':'Water Economics, Policy and Management',\n",
    "'wb_1021_water_law':'Water Economics, Policy and Management',\n",
    "'wb_1000_water_management_structures':'Water Economics, Policy and Management',\n",
    "'wb_141_water_resources_management':'Water Economics, Policy and Management',\n",
    "'wb_140_agricultural_water_management':'Water Economics, Policy and Management',\n",
    "'wb_156_groundwater_management':'Water Economics, Policy and Management',\n",
    "'wb_155_watershed_management':'Water Economics, Policy and Management',\n",
    "'wb_1220_surface_water_management':'Water Economics, Policy and Management',\n",
    "'wb_1002_irrigation_water_quality':'Water Supply, Sanitation and infrastructure'}\n"
   ]
  },
  {
   "cell_type": "code",
   "execution_count": 37,
   "id": "4dfc5c9d",
   "metadata": {},
   "outputs": [],
   "source": [
    "ETMs = ['Copper', 'Palladium',\n",
    "       'Nickel', 'Vanadium', 'Platinum',\n",
    "       'Lead', 'Cobalt', 'Lithium',\n",
    "       'Graphite', 'Manganese', 'Molybdenum',\n",
    "       'Bauxite', 'Alumina', 'Aluminum',\n",
    "       'Chromium', 'Platinum Group Metals']\n"
   ]
  },
  {
   "cell_type": "code",
   "execution_count": 38,
   "id": "84cfdb9c",
   "metadata": {},
   "outputs": [],
   "source": [
    "res2 = res[['prop_name', 'prop_id', 'primary_commodity', 'dev_stage', 'actv_status',\n",
    "           'country_name', 'snl_global_region',\n",
    "           'latitude', 'longitude', 'ActionGeo_Long', 'ActionGeo_Lat',\n",
    "#             'Actor1Name', 'Actor2Name', 'Actor1Type1Code', 'Actor2Type1Code', 'state_province',\n",
    "            'AvgTone', 'Dist', 'DATEADDED',\n",
    "            'V2Tone', 'V2Themes_lst', 'GKGRECORDID', 'GLOBALEVENTID']]\n"
   ]
  },
  {
   "cell_type": "code",
   "execution_count": 39,
   "id": "4c7c8ee4",
   "metadata": {},
   "outputs": [],
   "source": [
    "res2 = res2.explode('V2Themes_lst')\n"
   ]
  },
  {
   "cell_type": "code",
   "execution_count": 40,
   "id": "b85beb9f",
   "metadata": {},
   "outputs": [],
   "source": [
    "res2 = res2[res2['V2Themes_lst'].isin(water_theme_list)]\n"
   ]
  },
  {
   "cell_type": "code",
   "execution_count": 41,
   "id": "af87d416",
   "metadata": {},
   "outputs": [],
   "source": [
    "res2 = res2[res2['V2Themes_lst']!='wb_137_water']\n"
   ]
  },
  {
   "cell_type": "code",
   "execution_count": 42,
   "id": "7cd6b832",
   "metadata": {},
   "outputs": [],
   "source": [
    "res2.to_csv('mining_water_GKG_event.csv', index=None)\n"
   ]
  },
  {
   "cell_type": "code",
   "execution_count": 43,
   "id": "3a0d3fab",
   "metadata": {},
   "outputs": [
    {
     "data": {
      "text/plain": [
       "(4740384, 18)"
      ]
     },
     "execution_count": 43,
     "metadata": {},
     "output_type": "execute_result"
    }
   ],
   "source": [
    "res2.shape\n"
   ]
  }
 ],
 "metadata": {
  "kernelspec": {
   "display_name": "Python 3 (ipykernel)",
   "language": "python",
   "name": "python3"
  },
  "language_info": {
   "codemirror_mode": {
    "name": "ipython",
    "version": 3
   },
   "file_extension": ".py",
   "mimetype": "text/x-python",
   "name": "python",
   "nbconvert_exporter": "python",
   "pygments_lexer": "ipython3",
   "version": "3.9.13"
  },
  "toc": {
   "base_numbering": 1,
   "nav_menu": {},
   "number_sections": true,
   "sideBar": true,
   "skip_h1_title": false,
   "title_cell": "Table of Contents",
   "title_sidebar": "Contents",
   "toc_cell": false,
   "toc_position": {
    "height": "calc(100% - 180px)",
    "left": "10px",
    "top": "150px",
    "width": "409.6px"
   },
   "toc_section_display": true,
   "toc_window_display": true
  }
 },
 "nbformat": 4,
 "nbformat_minor": 5
}
